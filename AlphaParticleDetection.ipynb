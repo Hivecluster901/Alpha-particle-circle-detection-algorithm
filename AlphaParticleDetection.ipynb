{
 "cells": [
  {
   "cell_type": "code",
   "execution_count": 88,
   "metadata": {
    "scrolled": true
   },
   "outputs": [
    {
     "name": "stdout",
     "output_type": "stream",
     "text": [
      "[1]\n"
     ]
    }
   ],
   "source": [
    "import glob\n",
    "import os\n",
    "import numpy as np\n",
    "\n",
    "pixel_num = 256\n",
    "\n",
    "def count_alpha(frame_data):\n",
    "    num_alpha = 0\n",
    "    filter_size = 5\n",
    "    for i in range(pixel_num - filter_size):\n",
    "        for j in range(pixel_num - filter_size):\n",
    "            mean_val = np.mean(frame_data[i:(i+filter_size),j:(j+filter_size)])\n",
    "            if mean_val > 275:\n",
    "                num_alpha += 1\n",
    "    return num_alpha\n",
    "\n",
    "path = 'C:/Users/전민준/Desktop/B9 Rutherford Scattering Project/ImageProcessingCode2'\n",
    "num_alpha_in_frame = []\n",
    "for filename in glob.glob('*.txt'):\n",
    "    with open(os.path.join(path, filename), 'r') as f:\n",
    "        pixel_data = np.genfromtxt(f, delimiter=' ')\n",
    "        num_alpha_in_frame.append(count_alpha(pixel_data))\n",
    "        print(num_alpha)\n",
    "num_alpha_total = np.sum(num_alpha_in_frame)\n",
    "time_to_measure = 3603 # time of measurement = 1 hour and 3 seconds\n",
    "rate = num_alpha_total/time_to_measure\n",
    "#print(rate)\n",
    "#np.savetxt('num_alpha.txt', num_alpha, delimiter = '')\n",
    "        "
   ]
  },
  {
   "cell_type": "code",
   "execution_count": null,
   "metadata": {},
   "outputs": [],
   "source": []
  }
 ],
 "metadata": {
  "kernelspec": {
   "display_name": "Python 3",
   "language": "python",
   "name": "python3"
  },
  "language_info": {
   "codemirror_mode": {
    "name": "ipython",
    "version": 3
   },
   "file_extension": ".py",
   "mimetype": "text/x-python",
   "name": "python",
   "nbconvert_exporter": "python",
   "pygments_lexer": "ipython3",
   "version": "3.8.5"
  }
 },
 "nbformat": 4,
 "nbformat_minor": 4
}
